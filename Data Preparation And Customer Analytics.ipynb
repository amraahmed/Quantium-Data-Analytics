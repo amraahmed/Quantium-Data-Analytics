{
 "cells": [
  {
   "cell_type": "code",
   "execution_count": 1,
   "id": "e727afe9",
   "metadata": {},
   "outputs": [],
   "source": [
    "import pandas as pd\n",
    "import numpy as np\n",
    "import matplotlib.pyplot as plt\n",
    "from matplotlib import figure"
   ]
  },
  {
   "cell_type": "code",
   "execution_count": 2,
   "id": "32f851ca",
   "metadata": {},
   "outputs": [],
   "source": [
    "behaviour = (pd.read_csv(\"QVI_purchase_behaviour.csv\").dropna(how=\"any\"))\n",
    "transactions = (pd.read_csv(\"QVI_transaction_data.csv\",parse_dates=['DATE']).dropna(how=\"any\"))"
   ]
  },
  {
   "cell_type": "code",
   "execution_count": 3,
   "id": "c5a82283",
   "metadata": {},
   "outputs": [
    {
     "data": {
      "text/plain": [
       "DATE                 364\n",
       "STORE_NBR            272\n",
       "LYLTY_CARD_NBR     72637\n",
       "TXN_ID            263127\n",
       "PROD_NBR             114\n",
       "PROD_NAME            114\n",
       "PROD_QTY               6\n",
       "TOT_SALES            112\n",
       "dtype: int64"
      ]
     },
     "execution_count": 3,
     "metadata": {},
     "output_type": "execute_result"
    }
   ],
   "source": [
    "transactions.nunique()"
   ]
  },
  {
   "cell_type": "code",
   "execution_count": 4,
   "id": "e86659e8",
   "metadata": {},
   "outputs": [
    {
     "data": {
      "text/plain": [
       "LYLTY_CARD_NBR      72637\n",
       "LIFESTAGE               7\n",
       "PREMIUM_CUSTOMER        3\n",
       "dtype: int64"
      ]
     },
     "execution_count": 4,
     "metadata": {},
     "output_type": "execute_result"
    }
   ],
   "source": [
    "behaviour.nunique()"
   ]
  },
  {
   "cell_type": "code",
   "execution_count": 5,
   "id": "83c565a3",
   "metadata": {},
   "outputs": [],
   "source": [
    "data = transactions.merge(behaviour,how='left',on = 'LYLTY_CARD_NBR').sort_values(\"LYLTY_CARD_NBR\")"
   ]
  },
  {
   "cell_type": "code",
   "execution_count": 6,
   "id": "0c9cf679",
   "metadata": {},
   "outputs": [
    {
     "data": {
      "text/html": [
       "<div>\n",
       "<style scoped>\n",
       "    .dataframe tbody tr th:only-of-type {\n",
       "        vertical-align: middle;\n",
       "    }\n",
       "\n",
       "    .dataframe tbody tr th {\n",
       "        vertical-align: top;\n",
       "    }\n",
       "\n",
       "    .dataframe thead tr th {\n",
       "        text-align: left;\n",
       "    }\n",
       "\n",
       "    .dataframe thead tr:last-of-type th {\n",
       "        text-align: right;\n",
       "    }\n",
       "</style>\n",
       "<table border=\"1\" class=\"dataframe\">\n",
       "  <thead>\n",
       "    <tr>\n",
       "      <th></th>\n",
       "      <th>sum</th>\n",
       "      <th>count</th>\n",
       "      <th>mean</th>\n",
       "    </tr>\n",
       "    <tr>\n",
       "      <th></th>\n",
       "      <th>TOT_SALES</th>\n",
       "      <th>TOT_SALES</th>\n",
       "      <th>TOT_SALES</th>\n",
       "    </tr>\n",
       "    <tr>\n",
       "      <th>LIFESTAGE</th>\n",
       "      <th></th>\n",
       "      <th></th>\n",
       "      <th></th>\n",
       "    </tr>\n",
       "  </thead>\n",
       "  <tbody>\n",
       "    <tr>\n",
       "      <th>MIDAGE SINGLES/COUPLES</th>\n",
       "      <td>184751.30</td>\n",
       "      <td>25110</td>\n",
       "      <td>7.357678</td>\n",
       "    </tr>\n",
       "    <tr>\n",
       "      <th>NEW FAMILIES</th>\n",
       "      <td>50433.45</td>\n",
       "      <td>6919</td>\n",
       "      <td>7.289124</td>\n",
       "    </tr>\n",
       "    <tr>\n",
       "      <th>OLDER FAMILIES</th>\n",
       "      <td>353767.20</td>\n",
       "      <td>48596</td>\n",
       "      <td>7.279760</td>\n",
       "    </tr>\n",
       "    <tr>\n",
       "      <th>OLDER SINGLES/COUPLES</th>\n",
       "      <td>402426.75</td>\n",
       "      <td>54479</td>\n",
       "      <td>7.386823</td>\n",
       "    </tr>\n",
       "    <tr>\n",
       "      <th>RETIREES</th>\n",
       "      <td>366470.90</td>\n",
       "      <td>49763</td>\n",
       "      <td>7.364325</td>\n",
       "    </tr>\n",
       "    <tr>\n",
       "      <th>YOUNG FAMILIES</th>\n",
       "      <td>316160.10</td>\n",
       "      <td>43592</td>\n",
       "      <td>7.252709</td>\n",
       "    </tr>\n",
       "    <tr>\n",
       "      <th>YOUNG SINGLES/COUPLES</th>\n",
       "      <td>260405.30</td>\n",
       "      <td>36377</td>\n",
       "      <td>7.158515</td>\n",
       "    </tr>\n",
       "  </tbody>\n",
       "</table>\n",
       "</div>"
      ],
      "text/plain": [
       "                              sum     count      mean\n",
       "                        TOT_SALES TOT_SALES TOT_SALES\n",
       "LIFESTAGE                                            \n",
       "MIDAGE SINGLES/COUPLES  184751.30     25110  7.357678\n",
       "NEW FAMILIES             50433.45      6919  7.289124\n",
       "OLDER FAMILIES          353767.20     48596  7.279760\n",
       "OLDER SINGLES/COUPLES   402426.75     54479  7.386823\n",
       "RETIREES                366470.90     49763  7.364325\n",
       "YOUNG FAMILIES          316160.10     43592  7.252709\n",
       "YOUNG SINGLES/COUPLES   260405.30     36377  7.158515"
      ]
     },
     "execution_count": 6,
     "metadata": {},
     "output_type": "execute_result"
    }
   ],
   "source": [
    "data.pivot_table(values='TOT_SALES',index='LIFESTAGE',aggfunc=['sum','count','mean'])"
   ]
  },
  {
   "cell_type": "code",
   "execution_count": 7,
   "id": "23d77194",
   "metadata": {},
   "outputs": [],
   "source": [
    "##Identifying Outliers and Removing them"
   ]
  },
  {
   "cell_type": "code",
   "execution_count": 8,
   "id": "4f0ae3e4",
   "metadata": {},
   "outputs": [],
   "source": [
    "sales_count= data['TOT_SALES'].value_counts()\n",
    "sales_data = data['TOT_SALES']"
   ]
  },
  {
   "cell_type": "code",
   "execution_count": 9,
   "id": "40f27bd4",
   "metadata": {},
   "outputs": [],
   "source": [
    "lower_bound = 0.025\n",
    "upper_bound = 0.975\n",
    "quant = sales_data.quantile([lower_bound,upper_bound])"
   ]
  },
  {
   "cell_type": "code",
   "execution_count": 10,
   "id": "57137cec",
   "metadata": {},
   "outputs": [],
   "source": [
    "new_index = (quant.loc[lower_bound] < data.TOT_SALES.values) & (quant.loc[upper_bound] > data.TOT_SALES.values)"
   ]
  },
  {
   "cell_type": "code",
   "execution_count": 11,
   "id": "65f11a28",
   "metadata": {},
   "outputs": [],
   "source": [
    "data = data[new_index].sort_values(\"TOT_SALES\",ascending=False)"
   ]
  },
  {
   "cell_type": "code",
   "execution_count": 12,
   "id": "780c4d49",
   "metadata": {},
   "outputs": [],
   "source": [
    "## Identifying customer segments and visualization"
   ]
  },
  {
   "cell_type": "code",
   "execution_count": 13,
   "id": "0ad14ff7",
   "metadata": {},
   "outputs": [],
   "source": [
    "customer_seg = data.groupby(\"LIFESTAGE\")\n",
    "countseg = customer_seg['TOT_SALES'].count()"
   ]
  },
  {
   "cell_type": "code",
   "execution_count": 14,
   "id": "9549cf48",
   "metadata": {},
   "outputs": [
    {
     "data": {
      "image/png": "[encoded data removed]",
      "text/plain": [
       "<Figure size 640x480 with 1 Axes>"
      ]
     },
     "metadata": {},
     "output_type": "display_data"
    }
   ],
   "source": [
    "plt.pie(countseg,labels = countseg.index)\n",
    "plt.show()"
   ]
  },
  {
   "cell_type": "code",
   "execution_count": 15,
   "id": "c87df00d",
   "metadata": {},
   "outputs": [],
   "source": [
    "## Identifying customer spendings and visualization"
   ]
  },
  {
   "cell_type": "code",
   "execution_count": 16,
   "id": "774fdddb",
   "metadata": {},
   "outputs": [],
   "source": [
    "customer_spending = customer_seg['TOT_SALES'].sum()"
   ]
  },
  {
   "cell_type": "code",
   "execution_count": 26,
   "id": "f42d06ad",
   "metadata": {},
   "outputs": [
    {
     "data": {
      "text/plain": [
       "Text(0, 0.5, 'Segment spending')"
      ]
     },
     "execution_count": 26,
     "metadata": {},
     "output_type": "execute_result"
    },
    {
     "data": {
      "image/png": "[encoded data removed]",
      "text/plain": [
       "<Figure size 1500x500 with 1 Axes>"
      ]
     },
     "metadata": {},
     "output_type": "display_data"
    }
   ],
   "source": [
    "plt.figure(figsize=(15,5))\n",
    "plt.tick_params(axis='x', which='major',)\n",
    "plt.bar(countseg.index,customer_spending,width=0.5)\n",
    "# ylim([customer_spending.min()*1.2,customer_spending.max()*1.1])\n",
    "plt.xlabel('Customer Segment')\n",
    "plt.ylabel('Segment spending')"
   ]
  },
  {
   "cell_type": "code",
   "execution_count": 30,
   "id": "d5c44742",
   "metadata": {
    "collapsed": true
   },
   "outputs": [
    {
     "data": {
      "text/html": [
       "<div>\n",
       "<style scoped>\n",
       "    .dataframe tbody tr th:only-of-type {\n",
       "        vertical-align: middle;\n",
       "    }\n",
       "\n",
       "    .dataframe tbody tr th {\n",
       "        vertical-align: top;\n",
       "    }\n",
       "\n",
       "    .dataframe thead th {\n",
       "        text-align: right;\n",
       "    }\n",
       "</style>\n",
       "<table border=\"1\" class=\"dataframe\">\n",
       "  <thead>\n",
       "    <tr style=\"text-align: right;\">\n",
       "      <th></th>\n",
       "      <th>LYLTY_CARD_NBR</th>\n",
       "      <th>DATE</th>\n",
       "      <th>STORE_NBR</th>\n",
       "      <th>TXN_ID</th>\n",
       "      <th>PROD_NBR</th>\n",
       "      <th>PROD_NAME</th>\n",
       "      <th>PROD_QTY</th>\n",
       "      <th>TOT_SALES</th>\n",
       "      <th>PACK_SIZE</th>\n",
       "      <th>BRAND</th>\n",
       "      <th>LIFESTAGE</th>\n",
       "      <th>PREMIUM_CUSTOMER</th>\n",
       "    </tr>\n",
       "  </thead>\n",
       "  <tbody>\n",
       "    <tr>\n",
       "      <th>0</th>\n",
       "      <td>1000</td>\n",
       "      <td>2018-10-17</td>\n",
       "      <td>1</td>\n",
       "      <td>1</td>\n",
       "      <td>5</td>\n",
       "      <td>Natural Chip        Compny SeaSalt175g</td>\n",
       "      <td>2</td>\n",
       "      <td>6.0</td>\n",
       "      <td>175</td>\n",
       "      <td>NATURAL</td>\n",
       "      <td>YOUNG SINGLES/COUPLES</td>\n",
       "      <td>Premium</td>\n",
       "    </tr>\n",
       "    <tr>\n",
       "      <th>1</th>\n",
       "      <td>1002</td>\n",
       "      <td>2018-09-16</td>\n",
       "      <td>1</td>\n",
       "      <td>2</td>\n",
       "      <td>58</td>\n",
       "      <td>Red Rock Deli Chikn&amp;Garlic Aioli 150g</td>\n",
       "      <td>1</td>\n",
       "      <td>2.7</td>\n",
       "      <td>150</td>\n",
       "      <td>RRD</td>\n",
       "      <td>YOUNG SINGLES/COUPLES</td>\n",
       "      <td>Mainstream</td>\n",
       "    </tr>\n",
       "    <tr>\n",
       "      <th>2</th>\n",
       "      <td>1003</td>\n",
       "      <td>2019-03-07</td>\n",
       "      <td>1</td>\n",
       "      <td>3</td>\n",
       "      <td>52</td>\n",
       "      <td>Grain Waves Sour    Cream&amp;Chives 210G</td>\n",
       "      <td>1</td>\n",
       "      <td>3.6</td>\n",
       "      <td>210</td>\n",
       "      <td>GRNWVES</td>\n",
       "      <td>YOUNG FAMILIES</td>\n",
       "      <td>Budget</td>\n",
       "    </tr>\n",
       "    <tr>\n",
       "      <th>3</th>\n",
       "      <td>1003</td>\n",
       "      <td>2019-03-08</td>\n",
       "      <td>1</td>\n",
       "      <td>4</td>\n",
       "      <td>106</td>\n",
       "      <td>Natural ChipCo      Hony Soy Chckn175g</td>\n",
       "      <td>1</td>\n",
       "      <td>3.0</td>\n",
       "      <td>175</td>\n",
       "      <td>NATURAL</td>\n",
       "      <td>YOUNG FAMILIES</td>\n",
       "      <td>Budget</td>\n",
       "    </tr>\n",
       "    <tr>\n",
       "      <th>4</th>\n",
       "      <td>1004</td>\n",
       "      <td>2018-11-02</td>\n",
       "      <td>1</td>\n",
       "      <td>5</td>\n",
       "      <td>96</td>\n",
       "      <td>WW Original Stacked Chips 160g</td>\n",
       "      <td>1</td>\n",
       "      <td>1.9</td>\n",
       "      <td>160</td>\n",
       "      <td>WOOLWORTHS</td>\n",
       "      <td>OLDER SINGLES/COUPLES</td>\n",
       "      <td>Mainstream</td>\n",
       "    </tr>\n",
       "    <tr>\n",
       "      <th>...</th>\n",
       "      <td>...</td>\n",
       "      <td>...</td>\n",
       "      <td>...</td>\n",
       "      <td>...</td>\n",
       "      <td>...</td>\n",
       "      <td>...</td>\n",
       "      <td>...</td>\n",
       "      <td>...</td>\n",
       "      <td>...</td>\n",
       "      <td>...</td>\n",
       "      <td>...</td>\n",
       "      <td>...</td>\n",
       "    </tr>\n",
       "    <tr>\n",
       "      <th>264829</th>\n",
       "      <td>2370701</td>\n",
       "      <td>2018-12-08</td>\n",
       "      <td>88</td>\n",
       "      <td>240378</td>\n",
       "      <td>24</td>\n",
       "      <td>Grain Waves         Sweet Chilli 210g</td>\n",
       "      <td>2</td>\n",
       "      <td>7.2</td>\n",
       "      <td>210</td>\n",
       "      <td>GRNWVES</td>\n",
       "      <td>YOUNG FAMILIES</td>\n",
       "      <td>Mainstream</td>\n",
       "    </tr>\n",
       "    <tr>\n",
       "      <th>264830</th>\n",
       "      <td>2370751</td>\n",
       "      <td>2018-10-01</td>\n",
       "      <td>88</td>\n",
       "      <td>240394</td>\n",
       "      <td>60</td>\n",
       "      <td>Kettle Tortilla ChpsFeta&amp;Garlic 150g</td>\n",
       "      <td>2</td>\n",
       "      <td>9.2</td>\n",
       "      <td>150</td>\n",
       "      <td>KETTLE</td>\n",
       "      <td>YOUNG FAMILIES</td>\n",
       "      <td>Premium</td>\n",
       "    </tr>\n",
       "    <tr>\n",
       "      <th>264831</th>\n",
       "      <td>2370961</td>\n",
       "      <td>2018-10-24</td>\n",
       "      <td>88</td>\n",
       "      <td>240480</td>\n",
       "      <td>70</td>\n",
       "      <td>Tyrrells Crisps     Lightly Salted 165g</td>\n",
       "      <td>2</td>\n",
       "      <td>8.4</td>\n",
       "      <td>165</td>\n",
       "      <td>TYRRELLS</td>\n",
       "      <td>OLDER FAMILIES</td>\n",
       "      <td>Budget</td>\n",
       "    </tr>\n",
       "    <tr>\n",
       "      <th>264832</th>\n",
       "      <td>2370961</td>\n",
       "      <td>2018-10-27</td>\n",
       "      <td>88</td>\n",
       "      <td>240481</td>\n",
       "      <td>65</td>\n",
       "      <td>Old El Paso Salsa   Dip Chnky Tom Ht300g</td>\n",
       "      <td>2</td>\n",
       "      <td>10.2</td>\n",
       "      <td>300</td>\n",
       "      <td>OLD</td>\n",
       "      <td>OLDER FAMILIES</td>\n",
       "      <td>Budget</td>\n",
       "    </tr>\n",
       "    <tr>\n",
       "      <th>264833</th>\n",
       "      <td>2373711</td>\n",
       "      <td>2018-12-14</td>\n",
       "      <td>88</td>\n",
       "      <td>241815</td>\n",
       "      <td>16</td>\n",
       "      <td>Smiths Crinkle Chips Salt &amp; Vinegar 330g</td>\n",
       "      <td>2</td>\n",
       "      <td>11.4</td>\n",
       "      <td>330</td>\n",
       "      <td>SMITHS</td>\n",
       "      <td>YOUNG SINGLES/COUPLES</td>\n",
       "      <td>Mainstream</td>\n",
       "    </tr>\n",
       "  </tbody>\n",
       "</table>\n",
       "<p>264834 rows × 12 columns</p>\n",
       "</div>"
      ],
      "text/plain": [
       "        LYLTY_CARD_NBR       DATE  STORE_NBR  TXN_ID  PROD_NBR  \\\n",
       "0                 1000 2018-10-17          1       1         5   \n",
       "1                 1002 2018-09-16          1       2        58   \n",
       "2                 1003 2019-03-07          1       3        52   \n",
       "3                 1003 2019-03-08          1       4       106   \n",
       "4                 1004 2018-11-02          1       5        96   \n",
       "...                ...        ...        ...     ...       ...   \n",
       "264829         2370701 2018-12-08         88  240378        24   \n",
       "264830         2370751 2018-10-01         88  240394        60   \n",
       "264831         2370961 2018-10-24         88  240480        70   \n",
       "264832         2370961 2018-10-27         88  240481        65   \n",
       "264833         2373711 2018-12-14         88  241815        16   \n",
       "\n",
       "                                       PROD_NAME  PROD_QTY  TOT_SALES  \\\n",
       "0         Natural Chip        Compny SeaSalt175g         2        6.0   \n",
       "1          Red Rock Deli Chikn&Garlic Aioli 150g         1        2.7   \n",
       "2          Grain Waves Sour    Cream&Chives 210G         1        3.6   \n",
       "3         Natural ChipCo      Hony Soy Chckn175g         1        3.0   \n",
       "4                 WW Original Stacked Chips 160g         1        1.9   \n",
       "...                                          ...       ...        ...   \n",
       "264829     Grain Waves         Sweet Chilli 210g         2        7.2   \n",
       "264830      Kettle Tortilla ChpsFeta&Garlic 150g         2        9.2   \n",
       "264831   Tyrrells Crisps     Lightly Salted 165g         2        8.4   \n",
       "264832  Old El Paso Salsa   Dip Chnky Tom Ht300g         2       10.2   \n",
       "264833  Smiths Crinkle Chips Salt & Vinegar 330g         2       11.4   \n",
       "\n",
       "        PACK_SIZE       BRAND              LIFESTAGE PREMIUM_CUSTOMER  \n",
       "0             175     NATURAL  YOUNG SINGLES/COUPLES          Premium  \n",
       "1             150         RRD  YOUNG SINGLES/COUPLES       Mainstream  \n",
       "2             210     GRNWVES         YOUNG FAMILIES           Budget  \n",
       "3             175     NATURAL         YOUNG FAMILIES           Budget  \n",
       "4             160  WOOLWORTHS  OLDER SINGLES/COUPLES       Mainstream  \n",
       "...           ...         ...                    ...              ...  \n",
       "264829        210     GRNWVES         YOUNG FAMILIES       Mainstream  \n",
       "264830        150      KETTLE         YOUNG FAMILIES          Premium  \n",
       "264831        165    TYRRELLS         OLDER FAMILIES           Budget  \n",
       "264832        300         OLD         OLDER FAMILIES           Budget  \n",
       "264833        330      SMITHS  YOUNG SINGLES/COUPLES       Mainstream  \n",
       "\n",
       "[264834 rows x 12 columns]"
      ]
     },
     "execution_count": 30,
     "metadata": {},
     "output_type": "execute_result"
    }
   ],
   "source": [
    "data2 = pd.read_csv(\"QVI_data.csv\",parse_dates=['DATE']).dropna(how='any')\n",
    "data2"
   ]
  },
  {
   "cell_type": "code",
   "execution_count": 19,
   "id": "36a007f3",
   "metadata": {},
   "outputs": [],
   "source": [
    "total_sales_rev = int(data2['TOT_SALES'].sum())\n",
    "total_customers = data2['TXN_ID'].nunique()"
   ]
  },
  {
   "cell_type": "code",
   "execution_count": 20,
   "id": "2ea6dc2d",
   "metadata": {},
   "outputs": [],
   "source": [
    "# Comparing Stores location and their top customer segment"
   ]
  },
  {
   "cell_type": "code",
   "execution_count": 21,
   "id": "bed53dce",
   "metadata": {},
   "outputs": [],
   "source": [
    "stores = data2.groupby(\"STORE_NBR\")\n",
    "number_of_Stores = stores['STORE_NBR'].nunique().count()"
   ]
  },
  {
   "cell_type": "code",
   "execution_count": 22,
   "id": "97a09a99",
   "metadata": {
    "collapsed": true
   },
   "outputs": [
    {
     "data": {
      "text/plain": [
       "STORE_NBR\n",
       "226    17605.45\n",
       "88     16333.25\n",
       "165    15973.75\n",
       "40     15559.50\n",
       "237    15539.50\n",
       "         ...   \n",
       "206        7.60\n",
       "252        7.40\n",
       "11         6.70\n",
       "76         6.00\n",
       "211        5.20\n",
       "Name: TOT_SALES, Length: 272, dtype: float64"
      ]
     },
     "execution_count": 22,
     "metadata": {},
     "output_type": "execute_result"
    }
   ],
   "source": [
    "#Finding top sales stores\n",
    "stores['TOT_SALES'].sum().sort_values(ascending=False)"
   ]
  },
  {
   "cell_type": "code",
   "execution_count": 125,
   "id": "c189426e",
   "metadata": {},
   "outputs": [],
   "source": [
    "stores_stage = data2.groupby(['STORE_NBR','LIFESTAGE']).agg({'TOT_SALES':'sum'}).unstack()"
   ]
  },
  {
   "cell_type": "code",
   "execution_count": 126,
   "id": "11ffa6af",
   "metadata": {
    "collapsed": true
   },
   "outputs": [
    {
     "data": {
      "text/plain": [
       "STORE_NBR\n",
       "1      (TOT_SALES, YOUNG SINGLES/COUPLES)\n",
       "2      (TOT_SALES, YOUNG SINGLES/COUPLES)\n",
       "3      (TOT_SALES, OLDER SINGLES/COUPLES)\n",
       "4      (TOT_SALES, OLDER SINGLES/COUPLES)\n",
       "5             (TOT_SALES, OLDER FAMILIES)\n",
       "                      ...                \n",
       "268                 (TOT_SALES, RETIREES)\n",
       "269           (TOT_SALES, YOUNG FAMILIES)\n",
       "270           (TOT_SALES, OLDER FAMILIES)\n",
       "271           (TOT_SALES, OLDER FAMILIES)\n",
       "272    (TOT_SALES, YOUNG SINGLES/COUPLES)\n",
       "Length: 272, dtype: object"
      ]
     },
     "execution_count": 126,
     "metadata": {},
     "output_type": "execute_result"
    }
   ],
   "source": [
    "stores_stage.idxmax(axis=1)"
   ]
  },
  {
   "cell_type": "code",
   "execution_count": null,
   "id": "f461731d",
   "metadata": {},
   "outputs": [],
   "source": []
  }
 ],
 "metadata": {
  "kernelspec": {
   "display_name": "Python 3 (ipykernel)",
   "language": "python",
   "name": "python3"
  },
  "language_info": {
   "codemirror_mode": {
    "name": "ipython",
    "version": 3
   },
   "file_extension": ".py",
   "mimetype": "text/x-python",
   "name": "python",
   "nbconvert_exporter": "python",
   "pygments_lexer": "ipython3",
   "version": "3.10.6"
  }
 },
 "nbformat": 4,
 "nbformat_minor": 5
}
